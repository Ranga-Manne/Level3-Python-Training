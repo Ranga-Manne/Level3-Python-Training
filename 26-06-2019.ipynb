{
 "cells": [
  {
   "cell_type": "code",
   "execution_count": 10,
   "metadata": {},
   "outputs": [
    {
     "data": {
      "text/plain": [
       "-1"
      ]
     },
     "execution_count": 10,
     "metadata": {},
     "output_type": "execute_result"
    }
   ],
   "source": [
    "# function to find the second largest number in a list\n",
    "def slargest(l):\n",
    "    #convert the list into unique list\n",
    "    li=[]\n",
    "    for i in l:\n",
    "        if i not in li:\n",
    "            li.append(i)\n",
    "    if len(li)<2:\n",
    "        return -1\n",
    "    else:\n",
    "        li=sorted(li,reverse=True)\n",
    "        return li[1]\n",
    "slargest([1,1,1,1,1,1])"
   ]
  },
  {
   "cell_type": "code",
   "execution_count": 17,
   "metadata": {},
   "outputs": [
    {
     "data": {
      "text/plain": [
       "-3"
      ]
     },
     "execution_count": 17,
     "metadata": {},
     "output_type": "execute_result"
    }
   ],
   "source": [
    "#Function to find fifth smallest\n",
    "def fifthLeast(l):\n",
    "    li=[]\n",
    "    for i in l:\n",
    "        if i not in li:\n",
    "            li.append(i)\n",
    "    if len(li)<5:\n",
    "        return -1\n",
    "    else:\n",
    "        li=sorted(li)\n",
    "        return(li[4])\n",
    "fifthLeast([1,1,1,2,2,2,-1,-1,-1,-100,-100,3,3,3,-2000,-2000,-200,-3,-4])\n"
   ]
  },
  {
   "cell_type": "code",
   "execution_count": 28,
   "metadata": {},
   "outputs": [
    {
     "name": "stdout",
     "output_type": "stream",
     "text": [
      "[9, 7, 6, 4, 1, 0]\n"
     ]
    },
    {
     "data": {
      "text/plain": [
       "1"
      ]
     },
     "execution_count": 28,
     "metadata": {},
     "output_type": "execute_result"
    }
   ],
   "source": [
    "#function to find kth Largest\n",
    "def kthLargest(l,k):\n",
    "    li=[]\n",
    "    for i in l:\n",
    "        if i not in li:\n",
    "            li.append(i)\n",
    "    if len(li)<k:\n",
    "        return -1\n",
    "    else:\n",
    "        li=sorted(li,reverse=True)\n",
    "        print(li)\n",
    "        return li[k-1]\n",
    "kthLargest([1,4,6,1,7,9,0,6,4],5)"
   ]
  },
  {
   "cell_type": "code",
   "execution_count": 6,
   "metadata": {},
   "outputs": [
    {
     "data": {
      "text/plain": [
       "14"
      ]
     },
     "execution_count": 6,
     "metadata": {},
     "output_type": "execute_result"
    }
   ],
   "source": [
    "# function to find kth smallest\n",
    "def kthSmallest(l,k):\n",
    "    li=[]\n",
    "    for i in l:\n",
    "        if i not in li:\n",
    "            li.append(i)\n",
    "    if len(li)<k:\n",
    "        return -1\n",
    "    else:\n",
    "        li=sorted(li)\n",
    "        return li[k-1]\n",
    "kthSmallest([10,1,15,14,13,25],4)"
   ]
  },
  {
   "cell_type": "code",
   "execution_count": 30,
   "metadata": {},
   "outputs": [
    {
     "name": "stdout",
     "output_type": "stream",
     "text": [
      "{1: 3, 10: 1, 2: 4}\n"
     ]
    }
   ],
   "source": [
    "#Function to Find Highest frequency element\n",
    "import operator\n",
    "def highestFreq(l):\n",
    "    li=[]\n",
    "    f=[]\n",
    "    d={}\n",
    "    for i in l:\n",
    "        if i not in li:\n",
    "            li.append(i)\n",
    "    for i in li:\n",
    "        f.append(l.count(i))\n",
    "        d[i]=l.count(i)\n",
    "    print(d)\n",
    "    \n",
    "highestFreq([1,1,1,10,2,2,2,2])"
   ]
  },
  {
   "cell_type": "code",
   "execution_count": null,
   "metadata": {},
   "outputs": [],
   "source": []
  },
  {
   "cell_type": "code",
   "execution_count": null,
   "metadata": {},
   "outputs": [],
   "source": []
  }
 ],
 "metadata": {
  "kernelspec": {
   "display_name": "Python 3",
   "language": "python",
   "name": "python3"
  },
  "language_info": {
   "codemirror_mode": {
    "name": "ipython",
    "version": 3
   },
   "file_extension": ".py",
   "mimetype": "text/x-python",
   "name": "python",
   "nbconvert_exporter": "python",
   "pygments_lexer": "ipython3",
   "version": "3.7.3"
  }
 },
 "nbformat": 4,
 "nbformat_minor": 2
}
