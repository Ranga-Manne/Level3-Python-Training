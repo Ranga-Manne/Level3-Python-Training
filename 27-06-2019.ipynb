{
 "cells": [
  {
   "cell_type": "code",
   "execution_count": 1,
   "metadata": {},
   "outputs": [
    {
     "name": "stdout",
     "output_type": "stream",
     "text": [
      "2\n",
      "5\n",
      "B\n",
      "2\n",
      "A\n"
     ]
    }
   ],
   "source": [
    "lift_A=0\n",
    "lift_B=7\n",
    "test_case=int(input())\n",
    "for _ in range(test_case):\n",
    "    # Reading No.of Test Cases\n",
    "    N=int(input())\n",
    "    # reading floor\n",
    "    condition_A=abs(lift_A-N)\n",
    "    condition_B=abs(lift_B-N)\n",
    "    if(condition_A <= condition_B):\n",
    "        print(\"A\")\n",
    "        lift_A=N\n",
    "    else:\n",
    "        print(\"B\")\n",
    "        lift_B=N\n",
    "        "
   ]
  },
  {
   "cell_type": "code",
   "execution_count": 8,
   "metadata": {},
   "outputs": [
    {
     "name": "stdout",
     "output_type": "stream",
     "text": [
      "1 2)1 3)1 4)2 3)2 4)3 4)"
     ]
    }
   ],
   "source": [
    "#function to print all comibinations of pairs of integers in unique list\n",
    "#[1,2,3]-->(1,2),(1,3),(2,3)\n",
    "def combo2(l):\n",
    "    for i in range(0,len(l)-1):\n",
    "        for j in range(i+1,len(l)):\n",
    "            print(l[i],l[j],end=\")\")\n",
    "\n",
    "combo2([1,2,3,4])            "
   ]
  },
  {
   "cell_type": "code",
   "execution_count": 12,
   "metadata": {},
   "outputs": [
    {
     "name": "stdout",
     "output_type": "stream",
     "text": [
      "1 2 3\n",
      "1 2 4\n",
      "1 3 4\n",
      "2 3 4\n"
     ]
    }
   ],
   "source": [
    "def combo3(l):\n",
    "    for i in range(0,len(l)-2):\n",
    "        for j in range(i+1,len(l)-1):\n",
    "            for k in range(j+1,len(l)):\n",
    "                print(l[i],l[j],l[k])\n",
    "combo3([1,2,3,4])"
   ]
  },
  {
   "cell_type": "code",
   "execution_count": 32,
   "metadata": {},
   "outputs": [
    {
     "data": {
      "text/plain": [
       "([1, 3, 5], [1, 3, 5, 2, 4])"
      ]
     },
     "execution_count": 32,
     "metadata": {},
     "output_type": "execute_result"
    }
   ],
   "source": [
    "def diffPairs(l):\n",
    "    cli=l[:]\n",
    "    newEle=[]\n",
    "    for i in range(len(l)-1):\n",
    "        for j in range(i+1,len(l)):\n",
    "            if abs(l[i]-l[j]) not in l and abs(l[i]-l[j]) not in newEle:\n",
    "                newEle.append(abs(l[i]-l[j]))\n",
    "    l.extend(newEle)\n",
    "    return(cli,l)\n",
    "diffPairs([1,3,5])\n",
    "\n",
    "\n",
    "def medium(l,k):\n",
    "    while(True):\n",
    "        li=diffPairs(l)\n",
    "        if(li[0]==li[1]):\n",
    "            break\n",
    "        if(len(li[0])>=k):\n",
    "            return sorted(li[0],reverse=True)[k-1]\n",
    "        return -1"
   ]
  },
  {
   "cell_type": "code",
   "execution_count": 33,
   "metadata": {},
   "outputs": [],
   "source": [
    "def dPairs(l):\n",
    "    newEle=[]\n",
    "    for i in range(len(l)-1):\n",
    "        for j in range(i+1,len(l)):\n",
    "            d=abs(l[i]-l[j])\n",
    "            if d not in l and d not in newEle:\n",
    "                newEle.append(d)\n",
    "    li.extend(newEle)\n",
    "    \n",
    "        \n",
    "        "
   ]
  },
  {
   "cell_type": "markdown",
   "metadata": {},
   "source": [
    "## Set Data Structure in Python\n",
    "represented by '{}'\n",
    "set.add()-->used to add a element which is not in a set\n",
    "set1.update(set2)-->used to add unique ele from set2 to set1\n",
    "set.discard(value)-->used to remove the passed value from set"
   ]
  },
  {
   "cell_type": "code",
   "execution_count": 46,
   "metadata": {},
   "outputs": [
    {
     "name": "stdout",
     "output_type": "stream",
     "text": [
      "0 1 2 3 4 5 6 7 8 9 11 12 13 "
     ]
    },
    {
     "data": {
      "text/plain": [
       "{0, 1, 2, 3, 4, 5, 6, 7, 8, 9, 11, 12}"
      ]
     },
     "execution_count": 46,
     "metadata": {},
     "output_type": "execute_result"
    }
   ],
   "source": [
    "a={1,2,3,4,4,5,5,5,5,5,5,5,5}\n",
    "b={5,6,7,8,9,0}\n",
    "l=[12,13,11]\n",
    "a.add(7)\n",
    "a.add(6)\n",
    "a.update(b,l)\n",
    "for i in a:\n",
    "    print(i,end=\" \")\n",
    "a.discard(13)\n",
    "a"
   ]
  },
  {
   "cell_type": "code",
   "execution_count": 50,
   "metadata": {},
   "outputs": [
    {
     "data": {
      "text/plain": [
       "[1,\n",
       " 8,\n",
       " 27,\n",
       " 64,\n",
       " 125,\n",
       " 216,\n",
       " 343,\n",
       " 512,\n",
       " 729,\n",
       " 1000,\n",
       " 1331,\n",
       " 1728,\n",
       " 2197,\n",
       " 2744,\n",
       " 3375,\n",
       " 4096,\n",
       " 4913,\n",
       " 5832,\n",
       " 6859,\n",
       " 8000,\n",
       " 9261,\n",
       " 10648,\n",
       " 12167,\n",
       " 13824,\n",
       " 15625,\n",
       " 17576,\n",
       " 19683,\n",
       " 21952,\n",
       " 24389,\n",
       " 27000,\n",
       " 29791,\n",
       " 32768,\n",
       " 35937,\n",
       " 39304,\n",
       " 42875,\n",
       " 46656,\n",
       " 50653,\n",
       " 54872,\n",
       " 59319,\n",
       " 64000,\n",
       " 68921,\n",
       " 74088,\n",
       " 79507,\n",
       " 85184,\n",
       " 91125,\n",
       " 97336,\n",
       " 103823,\n",
       " 110592,\n",
       " 117649,\n",
       " 125000,\n",
       " 132651,\n",
       " 140608,\n",
       " 148877,\n",
       " 157464,\n",
       " 166375,\n",
       " 175616,\n",
       " 185193,\n",
       " 195112,\n",
       " 205379,\n",
       " 216000,\n",
       " 226981,\n",
       " 238328,\n",
       " 250047,\n",
       " 262144,\n",
       " 274625,\n",
       " 287496,\n",
       " 300763,\n",
       " 314432,\n",
       " 328509,\n",
       " 343000,\n",
       " 357911,\n",
       " 373248,\n",
       " 389017,\n",
       " 405224,\n",
       " 421875,\n",
       " 438976,\n",
       " 456533,\n",
       " 474552,\n",
       " 493039,\n",
       " 512000,\n",
       " 531441,\n",
       " 551368,\n",
       " 571787,\n",
       " 592704,\n",
       " 614125,\n",
       " 636056,\n",
       " 658503,\n",
       " 681472,\n",
       " 704969,\n",
       " 729000,\n",
       " 753571,\n",
       " 778688,\n",
       " 804357,\n",
       " 830584,\n",
       " 857375,\n",
       " 884736,\n",
       " 912673,\n",
       " 941192,\n",
       " 970299,\n",
       " 1000000,\n",
       " 1030301,\n",
       " 1061208,\n",
       " 1092727,\n",
       " 1124864,\n",
       " 1157625,\n",
       " 1191016,\n",
       " 1225043,\n",
       " 1259712,\n",
       " 1295029,\n",
       " 1331000]"
      ]
     },
     "execution_count": 50,
     "metadata": {},
     "output_type": "execute_result"
    }
   ],
   "source": [
    "l=[i**3 for i in range(1,111)]\n",
    "l"
   ]
  },
  {
   "cell_type": "code",
   "execution_count": 60,
   "metadata": {},
   "outputs": [
    {
     "data": {
      "text/plain": [
       "[1, 3, 6, 10, 15, 21, 28, 36, 45, 55]"
      ]
     },
     "execution_count": 60,
     "metadata": {},
     "output_type": "execute_result"
    }
   ],
   "source": [
    "n=10\n",
    "l=[sum(range(i+1)) for i in range(1,n+1)]\n",
    "l"
   ]
  },
  {
   "cell_type": "code",
   "execution_count": 61,
   "metadata": {},
   "outputs": [
    {
     "data": {
      "text/plain": [
       "[1972, 1976, 1980, 1984, 1988, 1992, 1996, 2000, 2004, 2008, 2012, 2016]"
      ]
     },
     "execution_count": 61,
     "metadata": {},
     "output_type": "execute_result"
    }
   ],
   "source": [
    "m=1970\n",
    "n=2019\n",
    "ll=[i for i in range(m,n+1)if i%400==0 or (i%4==0 and i%100!=0)]\n",
    "ll"
   ]
  },
  {
   "cell_type": "code",
   "execution_count": 68,
   "metadata": {},
   "outputs": [
    {
     "data": {
      "text/plain": [
       "[1, 2, 3]"
      ]
     },
     "execution_count": 68,
     "metadata": {},
     "output_type": "execute_result"
    }
   ],
   "source": [
    "li=[1,2,3,2,1]\n",
    "ul=[]\n",
    "[ul.append(i) for i in li if i not in ul]\n",
    "ul"
   ]
  },
  {
   "cell_type": "code",
   "execution_count": null,
   "metadata": {},
   "outputs": [],
   "source": []
  }
 ],
 "metadata": {
  "kernelspec": {
   "display_name": "Python 3",
   "language": "python",
   "name": "python3"
  },
  "language_info": {
   "codemirror_mode": {
    "name": "ipython",
    "version": 3
   },
   "file_extension": ".py",
   "mimetype": "text/x-python",
   "name": "python",
   "nbconvert_exporter": "python",
   "pygments_lexer": "ipython3",
   "version": "3.7.3"
  }
 },
 "nbformat": 4,
 "nbformat_minor": 2
}
